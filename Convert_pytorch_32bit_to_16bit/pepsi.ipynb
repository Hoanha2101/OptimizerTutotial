{
 "cells": [
  {
   "cell_type": "code",
   "execution_count": 1,
   "metadata": {},
   "outputs": [],
   "source": [
    "import torch\n",
    "import torchvision.transforms as transforms\n",
    "import torch.nn as nn\n",
    "import numpy as np"
   ]
  },
  {
   "cell_type": "code",
   "execution_count": 2,
   "metadata": {},
   "outputs": [
    {
     "name": "stdout",
     "output_type": "stream",
     "text": [
      "cuda\n"
     ]
    }
   ],
   "source": [
    "device = \"cuda\" if torch.cuda.is_available() else \"cpu\"\n",
    "device = torch.device(device)\n",
    "print(device)"
   ]
  },
  {
   "cell_type": "code",
   "execution_count": 3,
   "metadata": {},
   "outputs": [],
   "source": [
    "#Transforms\n",
    "\n",
    "mean = np.array([0.485, 0.456, 0.406])\n",
    "std = np.array([0.229, 0.224, 0.225])\n",
    "\n",
    "data_transforms = {\n",
    "    \"train\" : transforms.Compose([\n",
    "        transforms.ToTensor(),\n",
    "        transforms.Resize((270,90)),\n",
    "        transforms.Normalize(mean, std)\n",
    "    ]),\n",
    "    \n",
    "    \"test\" : transforms.Compose([\n",
    "        transforms.ToTensor(),\n",
    "        transforms.Resize((270,90)),\n",
    "        transforms.Normalize(mean, std),\n",
    "    ]),\n",
    "}"
   ]
  },
  {
   "cell_type": "code",
   "execution_count": 4,
   "metadata": {},
   "outputs": [],
   "source": [
    "#data\n",
    "from torch.utils.data import Dataset, DataLoader\n",
    "import os\n",
    "import cv2\n",
    "\n",
    "path_folder = \"D:/Pytorch/data/combine_cls\"\n",
    "\n",
    "class DataPepsi(Dataset):\n",
    "    \n",
    "    def __init__(self, path_folder, status , transforms = None):\n",
    "        \n",
    "        self.transforms = transforms\n",
    "        \n",
    "        if status == \"train\":\n",
    "            \n",
    "            path_good = path_folder + \"/\" + status + \"/\" + \"good\"\n",
    "            folder_good = os.listdir(path_good)\n",
    "            label_good = [0 for i in range(len(folder_good))]\n",
    "            image_good = []\n",
    "            for i in folder_good:\n",
    "                img = cv2.imread(path_good + \"/\" + i)\n",
    "                # img = cv2.cvtColor(img, cv2.COLOR_BGR2RGB)\n",
    "                image_good.append(img)\n",
    "            \n",
    "            path_error = path_folder + \"/\" + status + \"/\" + \"error\"\n",
    "            folder_error = os.listdir(path_error)\n",
    "            label_error = [1 for i in range(len(folder_error))]\n",
    "            image_error = []\n",
    "            for i in folder_error:\n",
    "                img = cv2.imread(path_error + \"/\" + i)\n",
    "                # img = cv2.cvtColor(img, cv2.COLOR_BGR2RGB)\n",
    "                image_error.append(img)\n",
    "            \n",
    "            \n",
    "            self.image = image_good + image_error\n",
    "            self.label = label_good + label_error\n",
    "            \n",
    "        else:\n",
    "            path = path_folder + \"/\" + status\n",
    "            folder = os.listdir(path)\n",
    "            image_list = []\n",
    "            label_list = []\n",
    "            for i in folder:\n",
    "                img = cv2.imread(path + \"/\" + i)\n",
    "                # img = cv2.cvtColor(img, cv2.COLOR_BGR2RGB)\n",
    "                image_list.append(img)\n",
    "                if i[0] == 'g':\n",
    "                    label_list.append(0)\n",
    "                else:\n",
    "                    label_list.append(1)\n",
    "            \n",
    "            self.image = image_list\n",
    "            self.label = label_list \n",
    "                \n",
    "            \n",
    "    def __getitem__(self, index):\n",
    "        image = self.image[index]\n",
    "        label = self.label[index]\n",
    "        \n",
    "        if self.transforms:\n",
    "            image = self.transforms(image)\n",
    "        label = torch.tensor(label, dtype=int)\n",
    "        return image, label\n",
    "    \n",
    "    def __len__(self):\n",
    "        return len(self.image)\n",
    "            \n",
    "            \n",
    "train_set = DataPepsi(path_folder, \"train\", transforms=data_transforms[\"train\"])\n",
    "test_set = DataPepsi(path_folder, \"test\", transforms=data_transforms[\"test\"])\n"
   ]
  },
  {
   "cell_type": "code",
   "execution_count": 5,
   "metadata": {},
   "outputs": [
    {
     "name": "stdout",
     "output_type": "stream",
     "text": [
      "Total train data: 1942\n",
      "Total test data: 227\n"
     ]
    }
   ],
   "source": [
    "print(f\"Total train data: {len(train_set)}\")\n",
    "print(f\"Total test data: {len(test_set)}\")"
   ]
  },
  {
   "cell_type": "code",
   "execution_count": 6,
   "metadata": {},
   "outputs": [
    {
     "name": "stderr",
     "output_type": "stream",
     "text": [
      "Clipping input data to the valid range for imshow with RGB data ([0..1] for floats or [0..255] for integers).\n"
     ]
    },
    {
     "data": {
      "image/png": "[encoded data removed]",
      "text/plain": [
       "<Figure size 640x480 with 1 Axes>"
      ]
     },
     "metadata": {},
     "output_type": "display_data"
    }
   ],
   "source": [
    "#test\n",
    "import matplotlib.pyplot as plt\n",
    "img_test, label_test = train_set[0]\n",
    "\n",
    "img_np = img_test.numpy()\n",
    "img_np = np.transpose(img_np, (1,2,0))\n",
    "\n",
    "plt.imshow(img_np)\n",
    "plt.show()"
   ]
  },
  {
   "cell_type": "code",
   "execution_count": 7,
   "metadata": {},
   "outputs": [],
   "source": [
    "# data loader\n",
    "train_loader = DataLoader(dataset= train_set,\n",
    "                          batch_size= 32,\n",
    "                          shuffle=True,)\n",
    "\n",
    "test_loader = DataLoader(dataset=test_set,\n",
    "                         batch_size=32,\n",
    "                         shuffle=False)"
   ]
  },
  {
   "cell_type": "code",
   "execution_count": 8,
   "metadata": {},
   "outputs": [
    {
     "name": "stdout",
     "output_type": "stream",
     "text": [
      "32\n",
      "tensor([1, 0, 1, 0, 0, 0, 0, 1, 1, 0, 0, 1, 0, 1, 1, 0, 0, 0, 0, 0, 1, 0, 0, 0,\n",
      "        1, 0, 0, 1, 0, 1, 1, 1])\n"
     ]
    }
   ],
   "source": [
    "#test dataloader\n",
    "sample = iter(train_loader)\n",
    "one = next(sample)\n",
    "print(len(one[0]))\n",
    "print(one[1])"
   ]
  },
  {
   "cell_type": "code",
   "execution_count": 9,
   "metadata": {},
   "outputs": [],
   "source": [
    "#model \n",
    "class ModelCNN(nn.Module):\n",
    "    def __init__(self, classes):\n",
    "        super(ModelCNN, self).__init__()\n",
    "        self.conv1 = nn.Conv2d(3, 16, 3)\n",
    "        self.conv2 = nn.Conv2d(16, 32, 3)\n",
    "        self.maxpool1 = nn.MaxPool2d(2)\n",
    "        self.bn1 = nn.BatchNorm2d(32)\n",
    "        \n",
    "        self.conv3 = nn.Conv2d(32, 64, 3)\n",
    "        self.conv4 = nn.Conv2d(64, 128, 3)\n",
    "        self.maxpool2 = nn.MaxPool2d(2)\n",
    "        self.bn2 = nn.BatchNorm2d(128)\n",
    "\n",
    "        self.avgpool = nn.AdaptiveMaxPool2d((16,16))\n",
    "        \n",
    "        self.fc1 = nn.Linear(16*16*128, 512)\n",
    "        self.bn3 = nn.BatchNorm1d(512)\n",
    "        self.dr = nn.Dropout(0.5)\n",
    "        self.fc2 = nn.Linear(512, classes)\n",
    "        \n",
    "    def forward(self, x):\n",
    "        out = self.conv1(x)\n",
    "        out = self.conv2(out)\n",
    "        out = self.maxpool1(out)\n",
    "        out = self.bn1(out)\n",
    "        \n",
    "        out = self.conv3(out)\n",
    "        out = self.conv4(out)\n",
    "        out = self.maxpool2(out)\n",
    "        out = self.bn2(out)\n",
    "        \n",
    "        out = self.avgpool(out)\n",
    "        \n",
    "        out = out.view(out.size(0), -1)\n",
    "        \n",
    "        out = self.fc1(out)\n",
    "        out = self.bn3(out)\n",
    "        out = self.dr(out)\n",
    "        out = self.fc2(out)\n",
    "        \n",
    "        out = torch.softmax(out, dim = 1)\n",
    "        \n",
    "        return out\n",
    "        "
   ]
  },
  {
   "cell_type": "code",
   "execution_count": 10,
   "metadata": {},
   "outputs": [
    {
     "name": "stdout",
     "output_type": "stream",
     "text": [
      "torch.Size([32, 2])\n"
     ]
    }
   ],
   "source": [
    "# test model\n",
    "model = ModelCNN(2)\n",
    "sample = torch.rand([32, 3, 270, 90])\n",
    "output = model(sample)\n",
    "print(output.shape)"
   ]
  },
  {
   "cell_type": "code",
   "execution_count": 42,
   "metadata": {},
   "outputs": [],
   "source": [
    "lr = 0.001\n",
    "\n",
    "# hyperparameter | set up loss, optimizer \n",
    "\n",
    "num_epochs = 20\n",
    "\n",
    "# loss\n",
    "criterion = nn.CrossEntropyLoss()\n",
    "\n",
    "# optimizer \n",
    "optimizer = torch.optim.Adam(model.parameters(), lr = lr)\n",
    "\n",
    "#total_step\n",
    "total_step = len(train_loader)"
   ]
  },
  {
   "cell_type": "code",
   "execution_count": 43,
   "metadata": {},
   "outputs": [],
   "source": [
    "model = model.to(device)"
   ]
  },
  {
   "cell_type": "code",
   "execution_count": 44,
   "metadata": {},
   "outputs": [
    {
     "name": "stdout",
     "output_type": "stream",
     "text": [
      "Epoch [1/20] | Step [15/61]: Loss: 0.4090\n",
      "Epoch [1/20] | Step [30/61]: Loss: 0.3853\n",
      "Epoch [1/20] | Step [45/61]: Loss: 0.4122\n",
      "Epoch [1/20] | Step [60/61]: Loss: 0.4656\n",
      "Acc: 0.8717816683831102\n",
      "--------------------------------------------------\n",
      "Epoch [2/20] | Step [15/61]: Loss: 0.3911\n",
      "Epoch [2/20] | Step [30/61]: Loss: 0.3256\n",
      "Epoch [2/20] | Step [45/61]: Loss: 0.3760\n",
      "Epoch [2/20] | Step [60/61]: Loss: 0.3212\n",
      "Acc: 0.9433573635427395\n",
      "--------------------------------------------------\n",
      "Epoch [3/20] | Step [15/61]: Loss: 0.3852\n",
      "Epoch [3/20] | Step [30/61]: Loss: 0.4348\n",
      "Epoch [3/20] | Step [45/61]: Loss: 0.3509\n",
      "Epoch [3/20] | Step [60/61]: Loss: 0.3329\n",
      "Acc: 0.9577754891864058\n",
      "--------------------------------------------------\n",
      "Epoch [4/20] | Step [15/61]: Loss: 0.3151\n",
      "Epoch [4/20] | Step [30/61]: Loss: 0.3475\n",
      "Epoch [4/20] | Step [45/61]: Loss: 0.3162\n",
      "Epoch [4/20] | Step [60/61]: Loss: 0.3533\n",
      "Acc: 0.9654994850669413\n",
      "--------------------------------------------------\n",
      "Epoch [5/20] | Step [15/61]: Loss: 0.4238\n",
      "Epoch [5/20] | Step [30/61]: Loss: 0.3326\n",
      "Epoch [5/20] | Step [45/61]: Loss: 0.3635\n",
      "Epoch [5/20] | Step [60/61]: Loss: 0.3983\n",
      "Acc: 0.9629248197734295\n",
      "--------------------------------------------------\n",
      "Epoch [6/20] | Step [15/61]: Loss: 0.3151\n",
      "Epoch [6/20] | Step [30/61]: Loss: 0.3212\n",
      "Epoch [6/20] | Step [45/61]: Loss: 0.3480\n",
      "Epoch [6/20] | Step [60/61]: Loss: 0.3446\n",
      "Acc: 0.9794026776519053\n",
      "--------------------------------------------------\n",
      "Epoch [7/20] | Step [15/61]: Loss: 0.3135\n",
      "Epoch [7/20] | Step [30/61]: Loss: 0.3285\n",
      "Epoch [7/20] | Step [45/61]: Loss: 0.3208\n",
      "Epoch [7/20] | Step [60/61]: Loss: 0.3767\n",
      "Acc: 0.9783728115345005\n",
      "--------------------------------------------------\n",
      "Epoch [8/20] | Step [15/61]: Loss: 0.3398\n",
      "Epoch [8/20] | Step [30/61]: Loss: 0.3325\n",
      "Epoch [8/20] | Step [45/61]: Loss: 0.3534\n",
      "Epoch [8/20] | Step [60/61]: Loss: 0.3174\n",
      "Acc: 0.9814624098867147\n",
      "--------------------------------------------------\n",
      "Epoch [9/20] | Step [15/61]: Loss: 0.3389\n",
      "Epoch [9/20] | Step [30/61]: Loss: 0.3140\n",
      "Epoch [9/20] | Step [45/61]: Loss: 0.3303\n",
      "Epoch [9/20] | Step [60/61]: Loss: 0.3156\n",
      "Acc: 0.9850669412976313\n",
      "--------------------------------------------------\n",
      "Epoch [10/20] | Step [15/61]: Loss: 0.3133\n",
      "Epoch [10/20] | Step [30/61]: Loss: 0.3141\n",
      "Epoch [10/20] | Step [45/61]: Loss: 0.3133\n",
      "Epoch [10/20] | Step [60/61]: Loss: 0.3143\n",
      "Acc: 0.984552008238929\n",
      "--------------------------------------------------\n",
      "Epoch [11/20] | Step [15/61]: Loss: 0.3143\n",
      "Epoch [11/20] | Step [30/61]: Loss: 0.3141\n",
      "Epoch [11/20] | Step [45/61]: Loss: 0.3295\n",
      "Epoch [11/20] | Step [60/61]: Loss: 0.3374\n",
      "Acc: 0.9830072090628218\n",
      "--------------------------------------------------\n",
      "Epoch [12/20] | Step [15/61]: Loss: 0.3218\n",
      "Epoch [12/20] | Step [30/61]: Loss: 0.3318\n",
      "Epoch [12/20] | Step [45/61]: Loss: 0.3140\n",
      "Epoch [12/20] | Step [60/61]: Loss: 0.3181\n",
      "Acc: 0.986096807415036\n",
      "--------------------------------------------------\n",
      "Epoch [13/20] | Step [15/61]: Loss: 0.3375\n",
      "Epoch [13/20] | Step [30/61]: Loss: 0.3137\n",
      "Epoch [13/20] | Step [45/61]: Loss: 0.3143\n",
      "Epoch [13/20] | Step [60/61]: Loss: 0.3213\n",
      "Acc: 0.9871266735324408\n",
      "--------------------------------------------------\n",
      "Epoch [14/20] | Step [15/61]: Loss: 0.3728\n",
      "Epoch [14/20] | Step [30/61]: Loss: 0.3137\n",
      "Epoch [14/20] | Step [45/61]: Loss: 0.3778\n",
      "Epoch [14/20] | Step [60/61]: Loss: 0.3735\n",
      "Acc: 0.9876416065911432\n",
      "--------------------------------------------------\n",
      "Epoch [15/20] | Step [15/61]: Loss: 0.3133\n",
      "Epoch [15/20] | Step [30/61]: Loss: 0.3133\n",
      "Epoch [15/20] | Step [45/61]: Loss: 0.3311\n",
      "Epoch [15/20] | Step [60/61]: Loss: 0.3138\n",
      "Acc: 0.9850669412976313\n",
      "--------------------------------------------------\n",
      "Epoch [16/20] | Step [15/61]: Loss: 0.3191\n",
      "Epoch [16/20] | Step [30/61]: Loss: 0.3135\n",
      "Epoch [16/20] | Step [45/61]: Loss: 0.3251\n",
      "Epoch [16/20] | Step [60/61]: Loss: 0.3140\n",
      "Acc: 0.9850669412976313\n",
      "--------------------------------------------------\n",
      "Epoch [17/20] | Step [15/61]: Loss: 0.3243\n",
      "Epoch [17/20] | Step [30/61]: Loss: 0.3453\n",
      "Epoch [17/20] | Step [45/61]: Loss: 0.3137\n",
      "Epoch [17/20] | Step [60/61]: Loss: 0.3139\n",
      "Acc: 0.9897013388259527\n",
      "--------------------------------------------------\n",
      "Epoch [18/20] | Step [15/61]: Loss: 0.3181\n",
      "Epoch [18/20] | Step [30/61]: Loss: 0.3160\n",
      "Epoch [18/20] | Step [45/61]: Loss: 0.3148\n",
      "Epoch [18/20] | Step [60/61]: Loss: 0.3134\n",
      "Acc: 0.9768280123583934\n",
      "--------------------------------------------------\n",
      "Epoch [19/20] | Step [15/61]: Loss: 0.3694\n",
      "Epoch [19/20] | Step [30/61]: Loss: 0.3319\n",
      "Epoch [19/20] | Step [45/61]: Loss: 0.3439\n",
      "Epoch [19/20] | Step [60/61]: Loss: 0.3268\n",
      "Acc: 0.984552008238929\n",
      "--------------------------------------------------\n",
      "Epoch [20/20] | Step [15/61]: Loss: 0.3420\n",
      "Epoch [20/20] | Step [30/61]: Loss: 0.3163\n",
      "Epoch [20/20] | Step [45/61]: Loss: 0.3198\n",
      "Epoch [20/20] | Step [60/61]: Loss: 0.3144\n",
      "Acc: 0.990216271884655\n",
      "--------------------------------------------------\n",
      "Finished training\n"
     ]
    }
   ],
   "source": [
    "#training \n",
    "\n",
    "loss_info = []\n",
    "ACC = []\n",
    "\n",
    "model.train()\n",
    "\n",
    "for epoch in range(num_epochs):\n",
    "    \n",
    "    acc_info = 0\n",
    "    \n",
    "    for i, (image, label) in  enumerate(train_loader):\n",
    "        image = image.to(device)\n",
    "        label = label.to(device)\n",
    "        \n",
    "        optimizer.zero_grad()\n",
    "        \n",
    "        output = model(image)\n",
    "        \n",
    "        _, label_pre = torch.max(output, 1)\n",
    "        \n",
    "        acc_info += torch.sum(label == label_pre).item()\n",
    "        \n",
    "        loss = criterion(output, label)\n",
    "        loss.backward()\n",
    "        \n",
    "        optimizer.step()\n",
    "        \n",
    "        \n",
    "        if (i + 1) % 15 == 0:\n",
    "            print(f'Epoch [{epoch + 1}/{num_epochs}] | Step [{i + 1}/{total_step}]: Loss: {loss.item():.4f}')\n",
    "            \n",
    "    ACC.append(acc_info/len(train_set))\n",
    "    loss_info.append(loss.item())\n",
    "    \n",
    "    print(f\"Acc: {acc_info/len(train_set)}\")\n",
    "    print(\"-\"*50)\n",
    "        \n",
    "            \n",
    "print(\"Finished training\")\n",
    "        "
   ]
  },
  {
   "cell_type": "code",
   "execution_count": 45,
   "metadata": {},
   "outputs": [
    {
     "data": {
      "image/png": "[encoded data removed]",
      "text/plain": [
       "<Figure size 640x480 with 1 Axes>"
      ]
     },
     "metadata": {},
     "output_type": "display_data"
    }
   ],
   "source": [
    "import matplotlib.pyplot as plt\n",
    "\n",
    "len_loss = len(loss_info)\n",
    "x = [i for i in range(len_loss)]\n",
    "\n",
    "len_acc = len(ACC)\n",
    "x_ = [i for i in range(len_acc)]\n",
    "\n",
    "plt.plot(x,loss_info, label = \"loss\")\n",
    "plt.plot(x_,ACC, label = \"accuracy\")\n",
    "plt.legend()\n",
    "plt.show()"
   ]
  },
  {
   "cell_type": "code",
   "execution_count": 22,
   "metadata": {},
   "outputs": [],
   "source": [
    "# PATH = \"model_FP32.pth\"\n",
    "# torch.save(model, PATH)"
   ]
  },
  {
   "cell_type": "code",
   "execution_count": 49,
   "metadata": {},
   "outputs": [],
   "source": [
    "model = torch.load(\"model_FP32.pth\")"
   ]
  },
  {
   "cell_type": "code",
   "execution_count": 57,
   "metadata": {},
   "outputs": [
    {
     "name": "stdout",
     "output_type": "stream",
     "text": [
      "Time: 0.51712 s\n",
      "Accuracy = 99.55947136563876\n"
     ]
    }
   ],
   "source": [
    "#Test\n",
    "import time\n",
    "model.eval()\n",
    "\n",
    "with torch.no_grad():\n",
    "    acc_test = 0\n",
    "    start = time.time()\n",
    "    for i, (image, label) in enumerate(test_loader):\n",
    "        image = image.to(device)\n",
    "        label = label.to(device)\n",
    "\n",
    "        output = model(image)\n",
    "        \n",
    "        _, label_pre = torch.max(output, 1)\n",
    "        \n",
    "        acc_test += torch.sum(label_pre == label).item()\n",
    "    print(f\"Time: {round(time.time() - start, 5)} s\") \n",
    "        \n",
    "print(f\"Accuracy = {100*(acc_test/len(test_set))}\")"
   ]
  },
  {
   "cell_type": "markdown",
   "metadata": {},
   "source": [
    "## Optimize (Mixed Precision Training)\n",
    "\n",
    "`Ưu điểm`:\n",
    "\n",
    "+ Giảm dung lượng GPU yêu cầu cho các phép tính: Do các phép tính diễn ra trên fp16 nên dung lượng tính toán giảm nhiều.\n",
    "+ Hiệu quả trên một số phần cứng hiện đại : Một số phần cứng GPU Nvidia, được tối ưu hóa cho các phép tính FP16, cho kết quả infer nhanh hơn.\n",
    "+ Tăng tốc độ huấn luyện: Do phần forward tính toán trên FP16 nên việc tính toán nhanh.\n",
    "\n",
    "`Nhược điểm`:\n",
    "+ Không phải GPU Nvidia nào hỗ trợ tốt FP16: một số phần cứng chạy trên FP32 nhanh hơn FP16."
   ]
  },
  {
   "cell_type": "code",
   "execution_count": 25,
   "metadata": {},
   "outputs": [],
   "source": [
    "model.float()\n",
    "model.half()\n",
    "torch.save(model,\"model_FP16.pth\")"
   ]
  },
  {
   "cell_type": "code",
   "execution_count": 58,
   "metadata": {},
   "outputs": [],
   "source": [
    "model = torch.load(\"model_FP16.pth\")"
   ]
  },
  {
   "cell_type": "code",
   "execution_count": 66,
   "metadata": {},
   "outputs": [
    {
     "name": "stdout",
     "output_type": "stream",
     "text": [
      "Time: 0.25611 s\n",
      "Accuracy = 99.55947136563876%\n"
     ]
    }
   ],
   "source": [
    "import time\n",
    "model.eval()\n",
    "\n",
    "with torch.no_grad():\n",
    "    acc_test = 0\n",
    "    start = time.time()\n",
    "    for i, (image, label) in enumerate(test_loader):\n",
    "        image = image.half().to(device)  # Convert image to half precision and move to device\n",
    "        label = label.to(device)\n",
    "\n",
    "        output = model(image)\n",
    "\n",
    "        _, label_pre = torch.max(output, 1)\n",
    "\n",
    "        acc_test += torch.sum(label_pre == label).item()\n",
    "    print(f\"Time: {round(time.time() - start, 5)} s\")\n",
    "\n",
    "print(f\"Accuracy = {100 * (acc_test / len(test_set))}%\")\n"
   ]
  }
 ],
 "metadata": {
  "kernelspec": {
   "display_name": "cuda",
   "language": "python",
   "name": "python3"
  },
  "language_info": {
   "codemirror_mode": {
    "name": "ipython",
    "version": 3
   },
   "file_extension": ".py",
   "mimetype": "text/x-python",
   "name": "python",
   "nbconvert_exporter": "python",
   "pygments_lexer": "ipython3",
   "version": "3.9.18"
  }
 },
 "nbformat": 4,
 "nbformat_minor": 2
}
